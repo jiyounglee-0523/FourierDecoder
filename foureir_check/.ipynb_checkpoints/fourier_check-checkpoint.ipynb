{
 "cells": [
  {
   "cell_type": "code",
   "execution_count": 1,
   "metadata": {},
   "outputs": [],
   "source": [
    "from symfit import parameters, variables, sin, cos, Fit\n",
    "import numpy as np\n",
    "import matplotlib.pyplot as plt"
   ]
  },
  {
   "cell_type": "code",
   "execution_count": 2,
   "metadata": {},
   "outputs": [],
   "source": [
    "def fourier_series(x, f, n=0):\n",
    "    cos_a = parameters(','.join(['a{}'.format(i) for i in range(0, n + 1)]))\n",
    "    sin_b = parameters(','.join(['b{}'.format(i) for i in range(0, n + 1)]))\n",
    "\n",
    "    series = sum(ai * cos(i * f * x) + bi * sin(i * f * x)\n",
    "                     for i, (ai, bi) in enumerate(zip(cos_a, sin_b)))\n",
    "    return series"
   ]
  },
  {
   "cell_type": "code",
   "execution_count": 21,
   "metadata": {},
   "outputs": [
    {
     "name": "stdout",
     "output_type": "stream",
     "text": [
      "{y: a0 + a1*cos(x) + a10*cos(10*x) + a11*cos(11*x) + a12*cos(12*x) + a13*cos(13*x) + a14*cos(14*x) + a15*cos(15*x) + a16*cos(16*x) + a17*cos(17*x) + a18*cos(18*x) + a19*cos(19*x) + a2*cos(2*x) + a20*cos(20*x) + a21*cos(21*x) + a22*cos(22*x) + a23*cos(23*x) + a24*cos(24*x) + a25*cos(25*x) + a26*cos(26*x) + a27*cos(27*x) + a28*cos(28*x) + a29*cos(29*x) + a3*cos(3*x) + a30*cos(30*x) + a31*cos(31*x) + a32*cos(32*x) + a33*cos(33*x) + a34*cos(34*x) + a35*cos(35*x) + a36*cos(36*x) + a37*cos(37*x) + a38*cos(38*x) + a39*cos(39*x) + a4*cos(4*x) + a40*cos(40*x) + a41*cos(41*x) + a42*cos(42*x) + a43*cos(43*x) + a44*cos(44*x) + a45*cos(45*x) + a46*cos(46*x) + a47*cos(47*x) + a48*cos(48*x) + a49*cos(49*x) + a5*cos(5*x) + a50*cos(50*x) + a6*cos(6*x) + a7*cos(7*x) + a8*cos(8*x) + a9*cos(9*x) + b1*sin(x) + b10*sin(10*x) + b11*sin(11*x) + b12*sin(12*x) + b13*sin(13*x) + b14*sin(14*x) + b15*sin(15*x) + b16*sin(16*x) + b17*sin(17*x) + b18*sin(18*x) + b19*sin(19*x) + b2*sin(2*x) + b20*sin(20*x) + b21*sin(21*x) + b22*sin(22*x) + b23*sin(23*x) + b24*sin(24*x) + b25*sin(25*x) + b26*sin(26*x) + b27*sin(27*x) + b28*sin(28*x) + b29*sin(29*x) + b3*sin(3*x) + b30*sin(30*x) + b31*sin(31*x) + b32*sin(32*x) + b33*sin(33*x) + b34*sin(34*x) + b35*sin(35*x) + b36*sin(36*x) + b37*sin(37*x) + b38*sin(38*x) + b39*sin(39*x) + b4*sin(4*x) + b40*sin(40*x) + b41*sin(41*x) + b42*sin(42*x) + b43*sin(43*x) + b44*sin(44*x) + b45*sin(45*x) + b46*sin(46*x) + b47*sin(47*x) + b48*sin(48*x) + b49*sin(49*x) + b5*sin(5*x) + b50*sin(50*x) + b6*sin(6*x) + b7*sin(7*x) + b8*sin(8*x) + b9*sin(9*x)}\n"
     ]
    }
   ],
   "source": [
    "# in our model, fit sin(1.7x)\n",
    "x, y = variables('x, y')\n",
    "model_dict = {y: fourier_series(x, f=1, n=50)}\n",
    "print(model_dict)"
   ]
  },
  {
   "cell_type": "code",
   "execution_count": 22,
   "metadata": {},
   "outputs": [
    {
     "name": "stdout",
     "output_type": "stream",
     "text": [
      "\n",
      "Parameter Value        Standard Deviation\n",
      "a0        4.166751e-02 None\n",
      "a1        8.542338e-02 None\n",
      "a10       -4.468383e-03 None\n",
      "a11       -4.201155e-03 None\n",
      "a12       -4.093303e-03 None\n",
      "a13       -4.128829e-03 None\n",
      "a14       -4.312927e-03 None\n",
      "a15       -4.673711e-03 None\n",
      "a16       -5.272172e-03 None\n",
      "a17       -6.227158e-03 None\n",
      "a18       -7.776007e-03 None\n",
      "a19       -1.043746e-02 None\n",
      "a2        -2.218384e-01 None\n",
      "a20       -1.553855e-02 None\n",
      "a21       -2.754831e-02 None\n",
      "a22       -7.420942e-02 None\n",
      "a23       3.810301e-01 None\n",
      "a24       9.135289e-02 None\n",
      "a25       9.135289e-02 None\n",
      "a26       3.810301e-01 None\n",
      "a27       -7.420942e-02 None\n",
      "a28       -2.754831e-02 None\n",
      "a29       -1.553855e-02 None\n",
      "a3        -4.144036e-02 None\n",
      "a30       -1.043746e-02 None\n",
      "a31       -7.776007e-03 None\n",
      "a32       -6.227158e-03 None\n",
      "a33       -5.272172e-03 None\n",
      "a34       -4.673711e-03 None\n",
      "a35       -4.312927e-03 None\n",
      "a36       -4.128829e-03 None\n",
      "a37       -4.093303e-03 None\n",
      "a38       -4.201155e-03 None\n",
      "a39       -4.468383e-03 None\n",
      "a4        -2.008758e-02 None\n",
      "a40       -4.937613e-03 None\n",
      "a41       -5.694172e-03 None\n",
      "a42       -6.904735e-03 None\n",
      "a43       -8.914961e-03 None\n",
      "a44       -1.253404e-02 None\n",
      "a45       -2.008758e-02 None\n",
      "a46       -4.144036e-02 None\n",
      "a47       -2.218384e-01 None\n",
      "a48       8.542338e-02 None\n",
      "a49       4.166751e-02 None\n",
      "a5        -1.253404e-02 None\n",
      "a50       8.542338e-02 None\n",
      "a6        -8.914961e-03 None\n",
      "a7        -6.904735e-03 None\n",
      "a8        -5.694172e-03 None\n",
      "a9        -4.937613e-03 None\n",
      "b1        6.833383e-01 None\n",
      "b10       9.981244e-01 None\n",
      "b11       9.989814e-01 None\n",
      "b12       9.997982e-01 None\n",
      "b13       1.000607e+00 None\n",
      "b14       1.001440e+00 None\n",
      "b15       1.002331e+00 None\n",
      "b16       1.003327e+00 None\n",
      "b17       1.004496e+00 None\n",
      "b18       1.005955e+00 None\n",
      "b19       1.007928e+00 None\n",
      "b2        9.162417e-01 None\n",
      "b20       1.010932e+00 None\n",
      "b21       1.016572e+00 None\n",
      "b22       1.034151e+00 None\n",
      "b23       8.899831e-01 None\n",
      "b24       9.910118e-01 None\n",
      "b25       1.008988e+00 None\n",
      "b26       1.110017e+00 None\n",
      "b27       9.658493e-01 None\n",
      "b28       9.834283e-01 None\n",
      "b29       9.890677e-01 None\n",
      "b3        9.778183e-01 None\n",
      "b30       9.920722e-01 None\n",
      "b31       9.940447e-01 None\n",
      "b32       9.955036e-01 None\n",
      "b33       9.966730e-01 None\n",
      "b34       9.976690e-01 None\n",
      "b35       9.985602e-01 None\n",
      "b36       9.993927e-01 None\n",
      "b37       1.000202e+00 None\n",
      "b38       1.001019e+00 None\n",
      "b39       1.001876e+00 None\n",
      "b4        9.867832e-01 None\n",
      "b40       1.002812e+00 None\n",
      "b41       1.003884e+00 None\n",
      "b42       1.005179e+00 None\n",
      "b43       1.006856e+00 None\n",
      "b44       1.009245e+00 None\n",
      "b45       1.013217e+00 None\n",
      "b46       1.022182e+00 None\n",
      "b47       1.083758e+00 None\n",
      "b48       1.316662e+00 None\n",
      "b49       1.000000e+00 None\n",
      "b5        9.907547e-01 None\n",
      "b50       6.833383e-01 None\n",
      "b6        9.931442e-01 None\n",
      "b7        9.948206e-01 None\n",
      "b8        9.961157e-01 None\n",
      "b9        9.971876e-01 None\n",
      "Status message         Optimization terminated successfully.\n",
      "Number of iterations   14\n",
      "Objective              <symfit.core.objectives.LeastSquares object at 0x00000259397EC280>\n",
      "Minimizer              <symfit.core.minimizers.BFGS object at 0x00000259397EC2E0>\n",
      "\n",
      "Goodness of fit qualifiers:\n",
      "chi_squared            0.17274575140670007\n",
      "objective_value        0.08637287570335003\n",
      "r_squared              0.9930344147676695\n"
     ]
    }
   ],
   "source": [
    "# Make sin(1.7x) data\n",
    "xdata = np.linspace(0, 4 * np.pi)\n",
    "\n",
    "# change this!\n",
    "ydata = np.sin(1.7 * xdata)\n",
    "# Define a Fit object for this model and data\n",
    "fit = Fit(model_dict, x=xdata, y=ydata)\n",
    "fit_result = fit.execute()\n",
    "print(fit_result)"
   ]
  },
  {
   "cell_type": "code",
   "execution_count": 23,
   "metadata": {},
   "outputs": [
    {
     "data": {
      "image/png": "[encoded data removed]",
      "text/plain": [
       "<Figure size 432x288 with 1 Axes>"
      ]
     },
     "metadata": {
      "needs_background": "light"
     },
     "output_type": "display_data"
    }
   ],
   "source": [
    "plt.plot(xdata, ydata, label='target trajectory')\n",
    "plt.plot(xdata, fit.model(x=xdata, **fit_result.params).y, ls=':', label='fourier series')\n",
    "plt.xlabel('x')\n",
    "plt.ylabel('y')\n",
    "plt.legend(loc='upper right')\n",
    "plt.show()"
   ]
  },
  {
   "cell_type": "code",
   "execution_count": null,
   "metadata": {},
   "outputs": [],
   "source": []
  },
  {
   "cell_type": "code",
   "execution_count": null,
   "metadata": {},
   "outputs": [],
   "source": []
  },
  {
   "cell_type": "code",
   "execution_count": null,
   "metadata": {},
   "outputs": [],
   "source": []
  },
  {
   "cell_type": "code",
   "execution_count": null,
   "metadata": {},
   "outputs": [],
   "source": []
  },
  {
   "cell_type": "code",
   "execution_count": null,
   "metadata": {},
   "outputs": [],
   "source": []
  }
 ],
 "metadata": {
  "kernelspec": {
   "display_name": "Python 3",
   "language": "python",
   "name": "python3"
  },
  "language_info": {
   "codemirror_mode": {
    "name": "ipython",
    "version": 3
   },
   "file_extension": ".py",
   "mimetype": "text/x-python",
   "name": "python",
   "nbconvert_exporter": "python",
   "pygments_lexer": "ipython3",
   "version": "3.8.3"
  }
 },
 "nbformat": 4,
 "nbformat_minor": 4
}
